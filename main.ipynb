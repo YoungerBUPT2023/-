{
 "cells": [
  {
   "cell_type": "code",
   "execution_count": 27,
   "metadata": {},
   "outputs": [],
   "source": [
    "from manim import *"
   ]
  },
  {
   "cell_type": "code",
   "execution_count": 213,
   "metadata": {},
   "outputs": [
    {
     "data": {
      "text/html": [
       "<pre style=\"white-space:pre;overflow-x:auto;line-height:normal;font-family:Menlo,'DejaVu Sans Mono',consolas,'Courier New',monospace\">Manim Community <span style=\"color: #008000; text-decoration-color: #008000\">v0.18.1</span>\n",
       "\n",
       "</pre>\n"
      ],
      "text/plain": [
       "Manim Community \u001b[32mv0.\u001b[0m\u001b[32m18.1\u001b[0m\n",
       "\n"
      ]
     },
     "metadata": {},
     "output_type": "display_data"
    },
    {
     "name": "stderr",
     "output_type": "stream",
     "text": [
      "                                                                               \r"
     ]
    },
    {
     "data": {
      "text/html": [
       "<video src=\"media\\jupyter\\DisplayImage@2024-09-07@22-32-22.mp4\" controls autoplay loop style=\"max-width: 60%;\"  >\n",
       "      Your browser does not support the <code>video</code> element.\n",
       "    </video>"
      ],
      "text/plain": [
       "<IPython.core.display.Video object>"
      ]
     },
     "metadata": {},
     "output_type": "display_data"
    }
   ],
   "source": [
    "%%manim -ql -v Warning DisplayImage\n",
    "\n",
    "class DisplayImage(Scene):\n",
    "    def construct(self):\n",
    "        # 加载图像文件\n",
    "        image = ImageMobject(\"./start.jpg\")\n",
    "        image.scale(1.5)  # 缩放图像大小\n",
    "        image.move_to(ORIGIN + UP)  # 将图像移动到屏幕上方\n",
    "        \n",
    "         # 创建带有特定字体的文本对象\n",
    "        youngerBUPT = Text(\"Younger BUPT\", font=\"Comic Sans MS\", color=WHITE).scale(2)\n",
    "        youngerBUPT.move_to(ORIGIN + DOWN*2).scale(0.8)\n",
    "        \n",
    "        # 动画显示图像\n",
    "        self.play(FadeIn(image), run_time=3)\n",
    "        self.play(Write(youngerBUPT), run_time=1.5)\n",
    "        \n",
    "        # 动画显示文本\n",
    "        self.wait(2)  # 等待一会儿以显示文本\n",
    "        \n",
    "        # 动画移除图像\n",
    "        self.play(FadeOut(image),FadeOut(youngerBUPT))\n",
    "        self.wait(1.5)  # 再等待一会儿以完成整个动画\n",
    "\n"
   ]
  },
  {
   "cell_type": "code",
   "execution_count": 214,
   "metadata": {},
   "outputs": [
    {
     "data": {
      "text/html": [
       "<pre style=\"white-space:pre;overflow-x:auto;line-height:normal;font-family:Menlo,'DejaVu Sans Mono',consolas,'Courier New',monospace\">Manim Community <span style=\"color: #008000; text-decoration-color: #008000\">v0.18.1</span>\n",
       "\n",
       "</pre>\n"
      ],
      "text/plain": [
       "Manim Community \u001b[32mv0.\u001b[0m\u001b[32m18.1\u001b[0m\n",
       "\n"
      ]
     },
     "metadata": {},
     "output_type": "display_data"
    },
    {
     "name": "stderr",
     "output_type": "stream",
     "text": [
      "                                                                                                            \r"
     ]
    },
    {
     "data": {
      "text/html": [
       "<video src=\"media\\jupyter\\CreateSudoku@2024-09-08@00-12-55.mp4\" controls autoplay loop style=\"max-width: 60%;\"  >\n",
       "      Your browser does not support the <code>video</code> element.\n",
       "    </video>"
      ],
      "text/plain": [
       "<IPython.core.display.Video object>"
      ]
     },
     "metadata": {},
     "output_type": "display_data"
    }
   ],
   "source": [
    "%%manim -ql -v Warning CreateSudoku\n",
    "\n",
    "from manim import *\n",
    "\n",
    "class CreateSudoku(Scene):\n",
    "    def get_cell_center(self, i, j, scale_factor):\n",
    "        # 计算每个单元格的中心位置\n",
    "        cell_size = 1 * scale_factor\n",
    "        x = -4.5 * scale_factor + (j + 0.5) * cell_size  # 水平方向的中心位置\n",
    "        y = 4.5 * scale_factor - (i + 0.5) * cell_size   # 垂直方向的中心位置\n",
    "        return np.array([x, y, 0])  # 返回中心坐标\n",
    "\n",
    "    def draw_bracket(self, position, direction, size, label):\n",
    "        # 创建大括号\n",
    "        line = Line(position, position + direction * size)\n",
    "        bracket = Brace(line, direction)\n",
    "        bracket_label = Text(label, font_size=24).next_to(bracket, direction)\n",
    "        return VGroup(bracket, bracket_label)\n",
    "\n",
    "    def construct(self):\n",
    "        grid = VGroup()\n",
    "        scale_factor = 0.5\n",
    "\n",
    "        # 创建网格\n",
    "        for i in range(10):  # 横线\n",
    "            grid.add(Line(LEFT * 4.5 * scale_factor + UP * (4.5 - i) * scale_factor, \n",
    "                          RIGHT * 4.5 * scale_factor + UP * (4.5 - i) * scale_factor).set_stroke(width=1))\n",
    "        for i in range(10):  # 竖线\n",
    "            grid.add(Line(UP * 4.5 * scale_factor + LEFT * (4.5 - i) * scale_factor, \n",
    "                          DOWN * 4.5 * scale_factor + LEFT * (4.5 - i) * scale_factor).set_stroke(width=1))\n",
    "\n",
    "        # 粗线分割3×3区域\n",
    "        for i in range(4):  # 横向粗线\n",
    "            grid.add(Line(LEFT * 4.5 * scale_factor + UP * (4.5 - i * 3) * scale_factor, \n",
    "                          RIGHT * 4.5 * scale_factor + UP * (4.5 - i * 3) * scale_factor).set_stroke(width=4))\n",
    "        for i in range(4):  # 纵向粗线\n",
    "            grid.add(Line(UP * 4.5 * scale_factor + LEFT * (4.5 - i * 3) * scale_factor, \n",
    "                          DOWN * 4.5 * scale_factor + LEFT * (4.5 - i * 3) * scale_factor).set_stroke(width=4))\n",
    "\n",
    "        self.play(Create(grid), run_time=5)\n",
    "        \n",
    "        dot1 = Dot([-4.5 * scale_factor ,  4.5 * scale_factor,0])\n",
    "        dot2 = Dot([4.5 * scale_factor , 4.5 * scale_factor, 0])\n",
    "        line = Line(dot1.get_center(), dot2.get_center()).set_color(ORANGE)\n",
    "        b1 = Brace(line, direction=UP)\n",
    "        b1text = b1.get_text(\"9 columns\")\n",
    "        \n",
    "        self.play(FadeIn(b1),Write(b1text))\n",
    "       \n",
    "        dot3 = Dot([-4.5 * scale_factor ,  4.5 * scale_factor,0])\n",
    "        dot4 = Dot([-4.5 * scale_factor , -4.5 * scale_factor, 0])\n",
    "        line = Line(dot3.get_center(), dot4.get_center()).set_color(ORANGE)\n",
    "        b2 = Brace(line, direction=LEFT)\n",
    "        b2text = b2.get_text(\"9 rows\")\n",
    "       \n",
    "        self.play(FadeIn(b2),Write(b2text))\n",
    "\n",
    "        # 添加数独数字\n",
    "        numbers = [\n",
    "            [0, 1, 7, 5, 0, 0, 2, 0, 0],\n",
    "            [0, 0, 0, 0, 0, 7, 0, 0, 0],\n",
    "            [0, 0, 0, 6, 1, 8, 5, 7, 0],\n",
    "            [0, 7, 1, 0, 0, 0, 0, 0, 4],\n",
    "            [0, 9, 0, 8, 0, 1, 0, 5, 0],\n",
    "            [3, 0, 0, 0, 0, 0, 1, 2, 0],\n",
    "            [0, 6, 3, 9, 8, 5, 0, 0, 0],\n",
    "            [0, 0, 0, 7, 0, 0, 0, 0, 0],\n",
    "            [0, 0, 5, 0, 0, 2, 6, 9, 0]\n",
    "        ]\n",
    "        \n",
    "        num_group = VGroup()  # 创建一个数字组\n",
    "        for i in range(9):\n",
    "            for j in range(9):\n",
    "                if numbers[i][j] != 0:\n",
    "                    # 为非零值在网格上添加数字\n",
    "                    num = Text(str(numbers[i][j]), font_size=24).move_to(self.get_cell_center(i, j, scale_factor))\n",
    "                    num_group.add(num)\n",
    "\n",
    "        self.play(FadeIn(num_group), run_time=3)  # 快速显示\n",
    "       \n",
    "        self.wait(5)\n",
    "       \n",
    "        # 清屏并逐渐淡出\n",
    "        self.play(FadeOut(grid), FadeOut(num_group), FadeOut(b1),FadeOut(b1text),FadeOut(b2),FadeOut(b2text),run_time=2)\n",
    "        \n",
    "        # 显示新文字\n",
    "        question_text = Text(\"那么，应该如何解这个数独呢？\", font_size=36).move_to(ORIGIN)\n",
    "        self.play(Write(question_text), run_time=2.3)\n",
    "        # 清屏并逐渐淡出\n",
    "        self.play(FadeOut(question_text), run_time=2)\n",
    "        self.wait()\n"
   ]
  },
  {
   "cell_type": "code",
   "execution_count": 93,
   "metadata": {},
   "outputs": [
    {
     "data": {
      "text/html": [
       "<pre style=\"white-space:pre;overflow-x:auto;line-height:normal;font-family:Menlo,'DejaVu Sans Mono',consolas,'Courier New',monospace\">Manim Community <span style=\"color: #008000; text-decoration-color: #008000\">v0.18.1</span>\n",
       "\n",
       "</pre>\n"
      ],
      "text/plain": [
       "Manim Community \u001b[32mv0.\u001b[0m\u001b[32m18.1\u001b[0m\n",
       "\n"
      ]
     },
     "metadata": {},
     "output_type": "display_data"
    },
    {
     "name": "stderr",
     "output_type": "stream",
     "text": [
      "                                                                                            \r"
     ]
    },
    {
     "data": {
      "text/html": [
       "<video src=\"media\\jupyter\\CreateSudoku@2024-09-07@20-04-45.mp4\" controls autoplay loop style=\"max-width: 60%;\"  >\n",
       "      Your browser does not support the <code>video</code> element.\n",
       "    </video>"
      ],
      "text/plain": [
       "<IPython.core.display.Video object>"
      ]
     },
     "metadata": {},
     "output_type": "display_data"
    }
   ],
   "source": [
    "%%manim -ql -v Warning CreateSudoku\n",
    "\n",
    "from manim import *\n",
    "\n",
    "class CreateSudoku(Scene):\n",
    "    def get_cell_center(self, i, j, scale_factor):\n",
    "        # 计算每个单元格的中心位置\n",
    "        cell_size = 1 * scale_factor\n",
    "        x = -4.5 * scale_factor + (j + 0.5) * cell_size  # 水平方向的中心位置\n",
    "        y = 4.5 * scale_factor - (i + 0.5) * cell_size   # 垂直方向的中心位置\n",
    "        return np.array([x, y, 0])  # 返回中心坐标\n",
    "\n",
    "    def draw_bracket(self, position, direction, size, label):\n",
    "        # 创建大括号\n",
    "        line = Line(position, position + direction * size)\n",
    "        bracket = Brace(line, direction)\n",
    "        bracket_label = Text(label, font_size=24).next_to(bracket, direction)\n",
    "        return VGroup(bracket, bracket_label)\n",
    "\n",
    "    def construct(self):\n",
    "        grid = VGroup()\n",
    "        scale_factor = 0.5\n",
    "        \n",
    "        # 创建网格\n",
    "        for i in range(10):  # 横线\n",
    "            grid.add(Line(LEFT * 4.5 * scale_factor + UP * (4.5 - i) * scale_factor, \n",
    "                          RIGHT * 4.5 * scale_factor + UP * (4.5 - i) * scale_factor).set_stroke(width=1))\n",
    "        for i in range(10):  # 竖线\n",
    "            grid.add(Line(UP * 4.5 * scale_factor + LEFT * (4.5 - i) * scale_factor, \n",
    "                          DOWN * 4.5 * scale_factor + LEFT * (4.5 - i) * scale_factor).set_stroke(width=1))\n",
    "\n",
    "        # 粗线分割3×3区域\n",
    "        for i in range(4):  # 横向粗线\n",
    "            grid.add(Line(LEFT * 4.5 * scale_factor + UP * (4.5 - i * 3) * scale_factor, \n",
    "                          RIGHT * 4.5 * scale_factor + UP * (4.5 - i * 3) * scale_factor).set_stroke(width=4))\n",
    "        for i in range(4):  # 纵向粗线\n",
    "            grid.add(Line(UP * 4.5 * scale_factor + LEFT * (4.5 - i * 3) * scale_factor, \n",
    "                          DOWN * 4.5 * scale_factor + LEFT * (4.5 - i * 3) * scale_factor).set_stroke(width=4))\n",
    "\n",
    "        # 添加数独数字\n",
    "        numbers = [\n",
    "            [0, 1, 7, 5, 0, 0, 2, 0, 0],\n",
    "            [0, 0, 0, 0, 0, 7, 0, 0, 0],\n",
    "            [0, 0, 0, 6, 1, 8, 5, 7, 0],\n",
    "            [0, 7, 1, 0, 0, 0, 0, 0, 4],\n",
    "            [0, 9, 0, 8, 0, 1, 0, 5, 0],\n",
    "            [3, 0, 0, 0, 0, 0, 1, 2, 0],\n",
    "            [0, 6, 3, 9, 8, 5, 0, 0, 0],\n",
    "            [0, 0, 0, 7, 0, 0, 0, 0, 0],\n",
    "            [0, 0, 5, 0, 0, 2, 6, 9, 0]\n",
    "        ]\n",
    "        \n",
    "        num_group = VGroup()  # 创建一个数字组\n",
    "        for i in range(9):\n",
    "            for j in range(9):\n",
    "                if numbers[i][j] != 0:\n",
    "                    # 为非零值在网格上添加数字\n",
    "                    num = Text(str(numbers[i][j]), font_size=24).move_to(self.get_cell_center(i, j, scale_factor))\n",
    "                    num_group.add(num)\n",
    "\n",
    "        self.play(FadeIn(grid,num_group))\n",
    "        \n",
    "        rule_text = MarkupText(\"<u>数独的规则</u>\").move_to(UP * 3)\n",
    "        self.play(FadeIn(rule_text))\n",
    "        \n",
    "        lineRow1 = Line(LEFT * 4.5 * scale_factor + UP * (4.5 - 4) * scale_factor, RIGHT * 4.5 * scale_factor + UP * (4.5 - 4) * scale_factor).set_stroke(width=4).set_color(color = RED)\n",
    "        lineRow2 = Line(LEFT * 4.5 * scale_factor + UP * (4.5 - 5) * scale_factor, RIGHT * 4.5 * scale_factor + UP * (4.5 - 5) * scale_factor).set_stroke(width=4).set_color(color = RED)\n",
    "        \n",
    "        self.play(FadeIn(lineRow1),FadeIn(lineRow2),runtime = 3)\n",
    "        self.wait(2)\n",
    "        \n",
    "        num1 = Text(\"1\",font_size=25)\n",
    "        num2 = Text(\"2\",font_size=25).move_to(self.get_cell_center(4, 4, scale_factor)).set_color(ORANGE)\n",
    "        num3 = Text(\"3\",font_size=25).move_to(self.get_cell_center(4, 0, scale_factor)).set_color(ORANGE)\n",
    "        num4 = Text(\"4\",font_size=25).move_to(self.get_cell_center(4, 2, scale_factor)).set_color(ORANGE)\n",
    "        num5 = Text(\"5\",font_size=25)\n",
    "        num6 = Text(\"6\",font_size=25).move_to(self.get_cell_center(4, 6, scale_factor)).set_color(ORANGE)\n",
    "        num7 = Text(\"7\",font_size=25).move_to(self.get_cell_center(4, 8, scale_factor)).set_color(ORANGE)\n",
    "        num8 = Text(\"8\",font_size=25)\n",
    "        num9 = Text(\"9\",font_size=25)\n",
    "        \n",
    "        self.play(Write(num3))\n",
    "        self.play(Write(num4))\n",
    "        self.play(Write(num2))\n",
    "        self.play(Write(num6))\n",
    "        self.play(Write(num7))    \n",
    "        \n",
    "        self.play(FadeOut(num3,num4,num2,num6,num7))\n",
    "        self.play(FadeOut(lineRow1,lineRow2))\n",
    "        \n",
    "        lineRow3 = Line(LEFT * (4.5-4) * scale_factor + UP * 4.5 * scale_factor, LEFT * (4.5-4) * scale_factor + DOWN * 4.5 * scale_factor).set_stroke(width=4).set_color(color = BLUE)\n",
    "        lineRow4 = Line(LEFT * (4.5-5) * scale_factor + UP * 4.5 * scale_factor, LEFT * (4.5-5) * scale_factor + DOWN * 4.5 * scale_factor).set_stroke(width=4).set_color(color = BLUE)\n",
    "        \n",
    "        self.play(FadeIn(lineRow3),FadeIn(lineRow4),runtime = 3)\n",
    "        self.wait(2)\n",
    "        \n",
    "        num1 = Text(\"1\",font_size=25)\n",
    "        num2 = Text(\"2\",font_size=25).move_to(self.get_cell_center(0, 4, scale_factor)).set_color(GREEN)\n",
    "        num3 = Text(\"3\",font_size=25).move_to(self.get_cell_center(1, 4, scale_factor)).set_color(GREEN)\n",
    "        num4 = Text(\"4\",font_size=25).move_to(self.get_cell_center(3, 4, scale_factor)).set_color(GREEN)\n",
    "        num5 = Text(\"5\",font_size=25).move_to(self.get_cell_center(4, 4, scale_factor)).set_color(GREEN)\n",
    "        num6 = Text(\"6\",font_size=25).move_to(self.get_cell_center(5, 4, scale_factor)).set_color(GREEN)\n",
    "        num7 = Text(\"7\",font_size=25).move_to(self.get_cell_center(7, 4, scale_factor)).set_color(GREEN)\n",
    "        num8 = Text(\"8\",font_size=25)\n",
    "        num9 = Text(\"9\",font_size=25).move_to(self.get_cell_center(8, 4, scale_factor)).set_color(GREEN)\n",
    "        \n",
    "        self.play(Write(num2))\n",
    "        self.play(Write(num3))\n",
    "        self.play(Write(num4))\n",
    "        self.play(Write(num5))\n",
    "        self.play(Write(num6))\n",
    "        self.play(Write(num7))\n",
    "        self.play(Write(num9))\n",
    "        \n",
    "        self.play(FadeOut(num2,num3,num4,num5,num6,num7,num9))\n",
    "        self.play(FadeOut(lineRow3,lineRow4))\n",
    "        \n",
    "        dotThree1 = LEFT * (4.5-3) * scale_factor + UP * (4.5-6) * scale_factor\n",
    "        dotThree2 = dotThree1 + RIGHT * 3 * scale_factor\n",
    "        dotThree3 = dotThree2 + DOWN * 3 * scale_factor\n",
    "        dotThree4 = dotThree1 + DOWN * 3 * scale_factor\n",
    "        \n",
    "        lineThree1 = Line(dotThree1,dotThree2).set_stroke(width=8).set_color(color = PURPLE)\n",
    "        lineThree2 = Line(dotThree2,dotThree3).set_stroke(width=8).set_color(color = PURPLE)\n",
    "        lineThree3 = Line(dotThree3,dotThree4).set_stroke(width=8).set_color(color = PURPLE)\n",
    "        lineThree4 = Line(dotThree4,dotThree1).set_stroke(width=8).set_color(color = PURPLE)\n",
    "        \n",
    "        self.play(FadeIn(lineThree1,lineThree2,lineThree3,lineThree4))\n",
    "        self.wait(2)\n",
    "        \n",
    "        num1 = Text(\"1\",font_size=25).move_to(self.get_cell_center(7, 4, scale_factor)).set_color(YELLOW)\n",
    "        num2 = Text(\"2\",font_size=25)\n",
    "        num3 = Text(\"3\",font_size=25).move_to(self.get_cell_center(7, 5, scale_factor)).set_color(YELLOW)\n",
    "        num4 = Text(\"4\",font_size=25).move_to(self.get_cell_center(8, 3, scale_factor)).set_color(YELLOW)\n",
    "        num5 = Text(\"5\",font_size=25)\n",
    "        num6 = Text(\"6\",font_size=25).move_to(self.get_cell_center(8, 4, scale_factor)).set_color(YELLOW)\n",
    "        \n",
    "        self.play(Write(num1))\n",
    "        self.play(Write(num3))\n",
    "        self.play(Write(num4))\n",
    "        self.play(Write(num6))\n",
    "        \n",
    "        self.wait(2)\n",
    "        \n",
    "        self.play(FadeOut(num1,num3,num4,num6))\n",
    "        self.play(FadeOut(lineThree1,lineThree2,lineThree3,lineThree4))\n",
    "        \n",
    "        self.wait(1)\n",
    "        \n",
    "        self.play(FadeOut(grid), FadeOut(num_group))\n",
    "        \n",
    "        self.wait(3) \n",
    "    \n"
   ]
  },
  {
   "cell_type": "code",
   "execution_count": 92,
   "metadata": {},
   "outputs": [
    {
     "data": {
      "text/html": [
       "<pre style=\"white-space:pre;overflow-x:auto;line-height:normal;font-family:Menlo,'DejaVu Sans Mono',consolas,'Courier New',monospace\">Manim Community <span style=\"color: #008000; text-decoration-color: #008000\">v0.18.1</span>\n",
       "\n",
       "</pre>\n"
      ],
      "text/plain": [
       "Manim Community \u001b[32mv0.\u001b[0m\u001b[32m18.1\u001b[0m\n",
       "\n"
      ]
     },
     "metadata": {},
     "output_type": "display_data"
    },
    {
     "name": "stderr",
     "output_type": "stream",
     "text": [
      "                                                                                                    \r"
     ]
    },
    {
     "data": {
      "text/html": [
       "<video src=\"media\\jupyter\\RULES@2024-09-07@20-04-07.mp4\" controls autoplay loop style=\"max-width: 60%;\"  >\n",
       "      Your browser does not support the <code>video</code> element.\n",
       "    </video>"
      ],
      "text/plain": [
       "<IPython.core.display.Video object>"
      ]
     },
     "metadata": {},
     "output_type": "display_data"
    }
   ],
   "source": [
    "%%manim -ql -v Warning RULES\n",
    "\n",
    "from manim import *\n",
    "\n",
    "class RULES(Scene):\n",
    "    def construct(self):\n",
    "        rule_text = MarkupText(\"<u>数独的规则</u>\").move_to(UP * 3)\n",
    "        self.add(rule_text)\n",
    "        \n",
    "        text = Text(\"对于每个数字而言：\").move_to(UP*1.5+LEFT*2).scale(0.8)\n",
    "        text1 = Text(\"(i)每行出现且仅出现一次\").move_to(UP*0.5).scale(0.8)\n",
    "        text2 = Text(\"(ii)每列出现且仅出现一次\").move_to(DOWN*0.5).scale(0.8)\n",
    "        text3 = Text(\"(iii)每个九宫格内出现且仅出现一次\").move_to(DOWN*1.5).scale(0.8)\n",
    "        self.play(Write(text),runtime = 3)\n",
    "        self.wait()\n",
    "        self.play(Write(text1),runtime = 3)\n",
    "        self.wait()\n",
    "        self.play(Write(text2),runtime = 3)\n",
    "        self.wait()\n",
    "        self.play(Write(text3),runtime = 3)\n",
    "        self.wait(3)\n",
    "        \n",
    "        self.play(FadeOut(rule_text,text,text1,text2,text3))\n",
    "        self.wait(2)\n",
    "        \n",
    "        \n",
    "        "
   ]
  },
  {
   "cell_type": "code",
   "execution_count": 99,
   "metadata": {},
   "outputs": [
    {
     "data": {
      "text/html": [
       "<pre style=\"white-space:pre;overflow-x:auto;line-height:normal;font-family:Menlo,'DejaVu Sans Mono',consolas,'Courier New',monospace\">Manim Community <span style=\"color: #008000; text-decoration-color: #008000\">v0.18.1</span>\n",
       "\n",
       "</pre>\n"
      ],
      "text/plain": [
       "Manim Community \u001b[32mv0.\u001b[0m\u001b[32m18.1\u001b[0m\n",
       "\n"
      ]
     },
     "metadata": {},
     "output_type": "display_data"
    },
    {
     "name": "stderr",
     "output_type": "stream",
     "text": [
      "                                                                                                                                  \r"
     ]
    },
    {
     "data": {
      "text/html": [
       "<video src=\"media\\jupyter\\Transform@2024-09-07@20-11-50.mp4\" controls autoplay loop style=\"max-width: 60%;\"  >\n",
       "      Your browser does not support the <code>video</code> element.\n",
       "    </video>"
      ],
      "text/plain": [
       "<IPython.core.display.Video object>"
      ]
     },
     "metadata": {},
     "output_type": "display_data"
    }
   ],
   "source": [
    "%%manim -ql -v Warning Transform\n",
    "\n",
    "from manim import *\n",
    "\n",
    "class Transform(Scene):\n",
    "    def construct(self):\n",
    "        # 显示新文字\n",
    "        question_text = Text(\"如何翻译这3个条件？\\n\\n转化为数学语言？\\n\\n进而进行编程求解？\", font_size=36).move_to(ORIGIN)\n",
    "        self.play(Write(question_text), run_time=6)\n",
    "        # 清屏并逐渐淡出\n",
    "        self.play(FadeOut(question_text), run_time=2)\n",
    "        self.wait(2)"
   ]
  },
  {
   "cell_type": "code",
   "execution_count": 215,
   "metadata": {},
   "outputs": [
    {
     "data": {
      "text/html": [
       "<pre style=\"white-space:pre;overflow-x:auto;line-height:normal;font-family:Menlo,'DejaVu Sans Mono',consolas,'Courier New',monospace\">Manim Community <span style=\"color: #008000; text-decoration-color: #008000\">v0.18.1</span>\n",
       "\n",
       "</pre>\n"
      ],
      "text/plain": [
       "Manim Community \u001b[32mv0.\u001b[0m\u001b[32m18.1\u001b[0m\n",
       "\n"
      ]
     },
     "metadata": {},
     "output_type": "display_data"
    },
    {
     "name": "stderr",
     "output_type": "stream",
     "text": [
      "                                                                                                      \r"
     ]
    },
    {
     "data": {
      "text/html": [
       "<video src=\"media\\jupyter\\CreateSudoku@2024-09-08@00-13-13.mp4\" controls autoplay loop style=\"max-width: 60%;\"  >\n",
       "      Your browser does not support the <code>video</code> element.\n",
       "    </video>"
      ],
      "text/plain": [
       "<IPython.core.display.Video object>"
      ]
     },
     "metadata": {},
     "output_type": "display_data"
    }
   ],
   "source": [
    "%%manim -ql -v Warning CreateSudoku\n",
    "\n",
    "from manim import *\n",
    "\n",
    "class CreateSudoku(Scene):\n",
    "    def get_cell_center(self, i, j, scale_factor):\n",
    "        # 计算每个单元格的中心位置\n",
    "        cell_size = 1 * scale_factor\n",
    "        x = -4.5 * scale_factor + (j + 0.5) * cell_size  # 水平方向的中心位置\n",
    "        y = 4.5 * scale_factor - (i + 0.5) * cell_size   # 垂直方向的中心位置\n",
    "        return np.array([x, y, 0])  # 返回中心坐标\n",
    "\n",
    "    def draw_bracket(self, position, direction, size, label):\n",
    "        # 创建大括号\n",
    "        line = Line(position, position + direction * size)\n",
    "        bracket = Brace(line, direction)\n",
    "        bracket_label = Text(label, font_size=24).next_to(bracket, direction)\n",
    "        return VGroup(bracket, bracket_label)\n",
    "\n",
    "    def construct(self):\n",
    "        grid = VGroup()\n",
    "        scale_factor = 0.5\n",
    "        \n",
    "        # 创建网格\n",
    "        for i in range(10):  # 横线\n",
    "            grid.add(Line(LEFT * 4.5 * scale_factor + UP * (4.5 - i) * scale_factor, \n",
    "                          RIGHT * 4.5 * scale_factor + UP * (4.5 - i) * scale_factor).set_stroke(width=1))\n",
    "        for i in range(10):  # 竖线\n",
    "            grid.add(Line(UP * 4.5 * scale_factor + LEFT * (4.5 - i) * scale_factor, \n",
    "                          DOWN * 4.5 * scale_factor + LEFT * (4.5 - i) * scale_factor).set_stroke(width=1))\n",
    "\n",
    "        # 粗线分割3×3区域\n",
    "        for i in range(4):  # 横向粗线\n",
    "            grid.add(Line(LEFT * 4.5 * scale_factor + UP * (4.5 - i * 3) * scale_factor, \n",
    "                          RIGHT * 4.5 * scale_factor + UP * (4.5 - i * 3) * scale_factor).set_stroke(width=4))\n",
    "        for i in range(4):  # 纵向粗线\n",
    "            grid.add(Line(UP * 4.5 * scale_factor + LEFT * (4.5 - i * 3) * scale_factor, \n",
    "                          DOWN * 4.5 * scale_factor + LEFT * (4.5 - i * 3) * scale_factor).set_stroke(width=4))\n",
    "\n",
    "        # 添加数独数字\n",
    "        numbers = [\n",
    "            [0, 1, 7, 5, 0, 0, 2, 0, 0],\n",
    "            [0, 0, 0, 0, 0, 7, 0, 0, 0],\n",
    "            [0, 0, 0, 6, 1, 8, 5, 7, 0],\n",
    "            [0, 7, 1, 0, 0, 0, 0, 0, 4],\n",
    "            [0, 9, 0, 8, 0, 1, 0, 5, 0],\n",
    "            [3, 0, 0, 0, 0, 0, 1, 2, 0],\n",
    "            [0, 6, 3, 9, 8, 5, 0, 0, 0],\n",
    "            [0, 0, 0, 7, 0, 0, 0, 0, 0],\n",
    "            [0, 0, 5, 0, 0, 2, 6, 9, 0]\n",
    "        ]\n",
    "        \n",
    "        num_group = VGroup()  # 创建一个数字组\n",
    "        for i in range(9):\n",
    "            for j in range(9):\n",
    "                if numbers[i][j] != 0:\n",
    "                    # 为非零值在网格上添加数字\n",
    "                    num = Text(str(numbers[i][j]), font_size=24).move_to(self.get_cell_center(i, j, scale_factor))\n",
    "                    num_group.add(num)\n",
    "\n",
    "        self.play(FadeIn(grid,num_group))\n",
    "        \n",
    "        dotThree1 = LEFT * (4.5-4) * scale_factor + UP * (4.5-7) * scale_factor\n",
    "        dotThree2 = dotThree1 + RIGHT * 1 * scale_factor\n",
    "        dotThree3 = dotThree2 + DOWN * 1 * scale_factor\n",
    "        dotThree4 = dotThree1 + DOWN * 1 * scale_factor\n",
    "        \n",
    "        lineThree1 = Line(dotThree1,dotThree2).set_stroke(width=5).set_color(color = PURPLE)\n",
    "        lineThree2 = Line(dotThree2,dotThree3).set_stroke(width=5).set_color(color = PURPLE)\n",
    "        lineThree3 = Line(dotThree3,dotThree4).set_stroke(width=5).set_color(color = PURPLE)\n",
    "        lineThree4 = Line(dotThree4,dotThree1).set_stroke(width=5).set_color(color = PURPLE)\n",
    "        \n",
    "        self.play(FadeIn(lineThree1,lineThree2,lineThree3,lineThree4))\n",
    "        self.wait(2)\n",
    "        \n",
    "        # 创建文本\n",
    "        textP = Text(\"第8行,第5列,应该填数字\", font_size=36).scale(0.7).move_to(RIGHT*4.58)\n",
    "        # 创建一个带下划线的文本\n",
    "        self.play(Write(textP))\n",
    "        \n",
    "        num1 = Text(\"1\",font_size=25).move_to(self.get_cell_center(7, 4, scale_factor)).set_color(YELLOW)\n",
    "        self.play(Write(num1))\n",
    "        numTemp = num1.copy()\n",
    "        numTemp.move_to(RIGHT*6.6)\n",
    "        self.play(FadeOut(num1,numTemp))\n",
    "        num1 = Text(\"2\",font_size=25).move_to(self.get_cell_center(7, 4, scale_factor)).set_color(YELLOW)\n",
    "        self.play(Write(num1))\n",
    "        numTemp = num1.copy()\n",
    "        numTemp.move_to(RIGHT*6.6)\n",
    "        self.play(FadeOut(num1,numTemp))\n",
    "        num1 = Text(\"3\",font_size=25).move_to(self.get_cell_center(7, 4, scale_factor)).set_color(YELLOW)\n",
    "        self.play(Write(num1))\n",
    "        numTemp = num1.copy()\n",
    "        numTemp.move_to(RIGHT*6.6)\n",
    "        self.play(FadeOut(num1,numTemp))\n",
    "        num1 = Text(\"4\",font_size=25).move_to(self.get_cell_center(7, 4, scale_factor)).set_color(YELLOW)\n",
    "        self.play(Write(num1))\n",
    "        numTemp = num1.copy()\n",
    "        numTemp.move_to(RIGHT*6.6)\n",
    "        self.play(FadeOut(num1,numTemp))\n",
    "        num1 = Text(\"5\",font_size=25).move_to(self.get_cell_center(7, 4, scale_factor)).set_color(YELLOW)\n",
    "        self.play(Write(num1))\n",
    "        numTemp = num1.copy()\n",
    "        numTemp.move_to(RIGHT*6.6)\n",
    "        self.play(FadeOut(num1,numTemp))\n",
    "        num1 = Text(\"6\",font_size=25).move_to(self.get_cell_center(7, 4, scale_factor)).set_color(YELLOW)\n",
    "        self.play(Write(num1))\n",
    "        numTemp = num1.copy()\n",
    "        numTemp.move_to(RIGHT*6.6)\n",
    "        self.play(FadeOut(num1,numTemp))\n",
    "        num1 = Text(\"7\",font_size=25).move_to(self.get_cell_center(7, 4, scale_factor)).set_color(YELLOW)\n",
    "        self.play(Write(num1))\n",
    "        numTemp = num1.copy()\n",
    "        numTemp.move_to(RIGHT*6.6)\n",
    "        self.play(FadeOut(num1,numTemp))\n",
    "        num1 = Text(\"8\",font_size=25).move_to(self.get_cell_center(7, 4, scale_factor)).set_color(YELLOW)\n",
    "        self.play(Write(num1))\n",
    "        numTemp = num1.copy()\n",
    "        numTemp.move_to(RIGHT*6.6)\n",
    "        self.play(FadeOut(num1,numTemp))\n",
    "        num1 = Text(\"9\",font_size=25).move_to(self.get_cell_center(7, 4, scale_factor)).set_color(YELLOW)\n",
    "        self.play(Write(num1))\n",
    "        numTemp = num1.copy()\n",
    "        numTemp.move_to(RIGHT*6.6)\n",
    "        self.play(FadeOut(num1,numTemp))\n",
    "        \n",
    "        questionSing = Text(\"？\",font_size=25).move_to(self.get_cell_center(7, 4, scale_factor)).set_color(YELLOW)\n",
    "        self.play(Write(questionSing))\n",
    "        quesTemp = questionSing.copy()\n",
    "        quesTemp.move_to(RIGHT*6.6)\n",
    "        \n",
    "        self.wait(5)\n",
    "        \n",
    "        self.wait(2)\n",
    "        \n",
    "        self.play(FadeOut(lineThree1,lineThree2,lineThree3,lineThree4))\n",
    "        self.play(FadeOut(questionSing,quesTemp))\n",
    "        \n",
    "        self.wait(1)\n",
    "        \n",
    "        self.play(FadeOut(grid), FadeOut(num_group,textP))\n",
    "        \n",
    "        self.wait(3) \n",
    "    \n"
   ]
  },
  {
   "cell_type": "code",
   "execution_count": 129,
   "metadata": {},
   "outputs": [
    {
     "data": {
      "text/html": [
       "<pre style=\"white-space:pre;overflow-x:auto;line-height:normal;font-family:Menlo,'DejaVu Sans Mono',consolas,'Courier New',monospace\">Manim Community <span style=\"color: #008000; text-decoration-color: #008000\">v0.18.1</span>\n",
       "\n",
       "</pre>\n"
      ],
      "text/plain": [
       "Manim Community \u001b[32mv0.\u001b[0m\u001b[32m18.1\u001b[0m\n",
       "\n"
      ]
     },
     "metadata": {},
     "output_type": "display_data"
    },
    {
     "name": "stderr",
     "output_type": "stream",
     "text": [
      "                                                                                                         \r"
     ]
    },
    {
     "data": {
      "text/html": [
       "<video src=\"media\\jupyter\\P@2024-09-07@20-51-52.mp4\" controls autoplay loop style=\"max-width: 60%;\"  >\n",
       "      Your browser does not support the <code>video</code> element.\n",
       "    </video>"
      ],
      "text/plain": [
       "<IPython.core.display.Video object>"
      ]
     },
     "metadata": {},
     "output_type": "display_data"
    }
   ],
   "source": [
    "%%manim -ql -v Warning P\n",
    "\n",
    "from manim import *\n",
    "\n",
    "class P(Scene):\n",
    "    def construct(self):\n",
    "        # 创建问题文本\n",
    "        questionP1 = Text(\"第8行,第5列,应该填数字几？\").move_to(UP*1.5).scale(0.7)\n",
    "        self.play(Write(questionP1))\n",
    "        self.wait(2)\n",
    "        \n",
    "        questionP = Tex(\"P(i,j,n) = row i , col j , put number n\").move_to(DOWN*1)\n",
    "        self.play(Write(questionP))\n",
    "        \n",
    "        # 创建箭头\n",
    "        arrow = Arrow(start=questionP1.get_center(), end=questionP.get_center(), buff=0.3)\n",
    "        \n",
    "        # 创建箭头上的文本\n",
    "        label = Text(\"抽象为逻辑命题\", font_size=24).next_to(arrow, RIGHT, buff=0.2)\n",
    "        \n",
    "        # 将箭头和标签组合\n",
    "        arrow_with_label = VGroup(arrow, label)\n",
    "        \n",
    "        # 显示文本和箭头\n",
    "        \n",
    "        self.play(Create(arrow_with_label))\n",
    "        self.wait(5)\n",
    "        \n",
    "        self.play(FadeOut(questionP1,questionP,arrow_with_label))\n",
    "        \n",
    "        self.wait(2)\n",
    "        \n",
    "\n",
    "\n",
    "        \n",
    "        "
   ]
  },
  {
   "cell_type": "code",
   "execution_count": 105,
   "metadata": {},
   "outputs": [
    {
     "data": {
      "text/html": [
       "<pre style=\"white-space:pre;overflow-x:auto;line-height:normal;font-family:Menlo,'DejaVu Sans Mono',consolas,'Courier New',monospace\">Manim Community <span style=\"color: #008000; text-decoration-color: #008000\">v0.18.1</span>\n",
       "\n",
       "</pre>\n"
      ],
      "text/plain": [
       "Manim Community \u001b[32mv0.\u001b[0m\u001b[32m18.1\u001b[0m\n",
       "\n"
      ]
     },
     "metadata": {},
     "output_type": "display_data"
    },
    {
     "name": "stderr",
     "output_type": "stream",
     "text": [
      "                                                                                                               \r"
     ]
    },
    {
     "data": {
      "text/html": [
       "<video src=\"media\\jupyter\\MATH1@2024-09-07@20-17-47.mp4\" controls autoplay loop style=\"max-width: 60%;\"  >\n",
       "      Your browser does not support the <code>video</code> element.\n",
       "    </video>"
      ],
      "text/plain": [
       "<IPython.core.display.Video object>"
      ]
     },
     "metadata": {},
     "output_type": "display_data"
    }
   ],
   "source": [
    "%%manim -ql -v Warning MATH1\n",
    "\n",
    "from manim import *\n",
    "\n",
    "class MATH1(Scene):\n",
    "    def construct(self):\n",
    "        # 创建文本对象\n",
    "        rule_text = MarkupText(\"<u>数独的规则</u>\").move_to(UP * 3)\n",
    "        text = Text(\"对于每个数字而言：\").move_to(UP * 1.5 + LEFT * 2).scale(0.8)\n",
    "        text1 = Text(\"(i)每行出现且仅出现一次\").move_to(UP * 0.5).scale(0.8)\n",
    "        text2 = Text(\"(ii)每列出现且仅出现一次\").move_to(DOWN * 0.5).scale(0.8)\n",
    "        text3 = Text(\"(iii)每个九宫格内出现且仅出现一次\").move_to(DOWN * 1.5).scale(0.8)\n",
    "\n",
    "        # 创建一个颜色动画函数\n",
    "        def change_color(mobject, color, duration=1):\n",
    "            return ApplyMethod(mobject.set_color, color, run_time=duration)\n",
    "\n",
    "        # 显示规则文本和内容\n",
    "        self.play(Write(rule_text))\n",
    "        self.wait(1)\n",
    "        self.play(Write(text))\n",
    "        self.play(Write(text1))\n",
    "        self.play(Write(text2))\n",
    "        self.play(Write(text3))\n",
    "        \n",
    "        # 创建一个 VGroup 包含所有需要更改颜色的文本\n",
    "        all_texts = VGroup(text1, text2, text3)\n",
    "\n",
    "        # 逐一逐渐变色\n",
    "        self.play(change_color(text1[7:8], RED, 1),runtime = 2)  # “且”字在 text1 中的索引为 7 和 8\n",
    "        self.play(change_color(text2[8:9], RED, 1),runtime = 2)  # “且”字在 text2 中的索引为 7 和 8\n",
    "        self.play(change_color(text3[13:14], RED, 1),runtime = 2)  # “且”字在 text3 中的索引为 9 和 10\n",
    "        \n",
    "        # 等待几秒钟\n",
    "        self.wait(2)\n",
    "\n",
    "        self.play(FadeOut(rule_text,text,text1,text2,text3))\n",
    "        self.wait(2)\n",
    "\n",
    "        \n",
    "        \n",
    "        "
   ]
  },
  {
   "cell_type": "code",
   "execution_count": 150,
   "metadata": {},
   "outputs": [
    {
     "data": {
      "text/html": [
       "<pre style=\"white-space:pre;overflow-x:auto;line-height:normal;font-family:Menlo,'DejaVu Sans Mono',consolas,'Courier New',monospace\">Manim Community <span style=\"color: #008000; text-decoration-color: #008000\">v0.18.1</span>\n",
       "\n",
       "</pre>\n"
      ],
      "text/plain": [
       "Manim Community \u001b[32mv0.\u001b[0m\u001b[32m18.1\u001b[0m\n",
       "\n"
      ]
     },
     "metadata": {},
     "output_type": "display_data"
    },
    {
     "name": "stderr",
     "output_type": "stream",
     "text": [
      "                                                                                          \r"
     ]
    },
    {
     "data": {
      "text/html": [
       "<video src=\"media\\jupyter\\MATH2@2024-09-07@21-12-03.mp4\" controls autoplay loop style=\"max-width: 60%;\"  >\n",
       "      Your browser does not support the <code>video</code> element.\n",
       "    </video>"
      ],
      "text/plain": [
       "<IPython.core.display.Video object>"
      ]
     },
     "metadata": {},
     "output_type": "display_data"
    }
   ],
   "source": [
    "%%manim -ql -v Warning MATH2\n",
    "\n",
    "from manim import *\n",
    "\n",
    "class MATH2(Scene):\n",
    "    def construct(self):\n",
    "        rule_text = MarkupText(\"<u>逻辑</u>\").move_to(UP * 3)\n",
    "        self.play(Write(rule_text))\n",
    "        \n",
    "        self.wait(5)\n",
    "        \n",
    "        # 创建 \"交\" 符号\n",
    "        intersection = MathTex(r\"and : P_1 \\cap P_2\", font_size=48)\n",
    "        intersection.move_to(UP*0.5)\n",
    "\n",
    "        # 创建 \"并\" 符号\n",
    "        union = MathTex(r\"or : P_1 \\cup P_2\", font_size=48)\n",
    "        union.move_to(DOWN*0.5)\n",
    "\n",
    "        # 显示符号\n",
    "        self.play(Write(intersection))\n",
    "        self.wait(5)\n",
    "        self.play(Write(union))\n",
    "        self.wait(5)\n",
    "        \n",
    "        self.play(FadeOut(intersection,union,rule_text))\n",
    "        self.wait(5)"
   ]
  },
  {
   "cell_type": "code",
   "execution_count": 149,
   "metadata": {},
   "outputs": [
    {
     "data": {
      "text/html": [
       "<pre style=\"white-space:pre;overflow-x:auto;line-height:normal;font-family:Menlo,'DejaVu Sans Mono',consolas,'Courier New',monospace\">Manim Community <span style=\"color: #008000; text-decoration-color: #008000\">v0.18.1</span>\n",
       "\n",
       "</pre>\n"
      ],
      "text/plain": [
       "Manim Community \u001b[32mv0.\u001b[0m\u001b[32m18.1\u001b[0m\n",
       "\n"
      ]
     },
     "metadata": {},
     "output_type": "display_data"
    },
    {
     "name": "stderr",
     "output_type": "stream",
     "text": [
      "                                                                                                                       \r"
     ]
    },
    {
     "data": {
      "text/html": [
       "<video src=\"media\\jupyter\\CreateSudoku@2024-09-07@21-10-59.mp4\" controls autoplay loop style=\"max-width: 60%;\"  >\n",
       "      Your browser does not support the <code>video</code> element.\n",
       "    </video>"
      ],
      "text/plain": [
       "<IPython.core.display.Video object>"
      ]
     },
     "metadata": {},
     "output_type": "display_data"
    }
   ],
   "source": [
    "%%manim -ql -v Warning CreateSudoku\n",
    "\n",
    "from manim import *\n",
    "\n",
    "class CreateSudoku(Scene):\n",
    "    def get_cell_center(self, i, j, scale_factor):\n",
    "        # 计算每个单元格的中心位置\n",
    "        cell_size = 1 * scale_factor\n",
    "        x = -4.5 * scale_factor + (j + 0.5) * cell_size  # 水平方向的中心位置\n",
    "        y = 4.5 * scale_factor - (i + 0.5) * cell_size   # 垂直方向的中心位置\n",
    "        return np.array([x, y, 0])  # 返回中心坐标\n",
    "\n",
    "    def draw_bracket(self, position, direction, size, label):\n",
    "        # 创建大括号\n",
    "        line = Line(position, position + direction * size)\n",
    "        bracket = Brace(line, direction)\n",
    "        bracket_label = Text(label, font_size=24).next_to(bracket, direction)\n",
    "        return VGroup(bracket, bracket_label)\n",
    "\n",
    "    def construct(self):\n",
    "        grid = VGroup()\n",
    "        scale_factor = 0.5\n",
    "        \n",
    "        # 创建网格\n",
    "        for i in range(10):  # 横线\n",
    "            grid.add(Line(LEFT * 4.5 * scale_factor + UP * (4.5 - i) * scale_factor, \n",
    "                          RIGHT * 4.5 * scale_factor + UP * (4.5 - i) * scale_factor).set_stroke(width=1))\n",
    "        for i in range(10):  # 竖线\n",
    "            grid.add(Line(UP * 4.5 * scale_factor + LEFT * (4.5 - i) * scale_factor, \n",
    "                          DOWN * 4.5 * scale_factor + LEFT * (4.5 - i) * scale_factor).set_stroke(width=1))\n",
    "\n",
    "        # 粗线分割3×3区域\n",
    "        for i in range(4):  # 横向粗线\n",
    "            grid.add(Line(LEFT * 4.5 * scale_factor + UP * (4.5 - i * 3) * scale_factor, \n",
    "                          RIGHT * 4.5 * scale_factor + UP * (4.5 - i * 3) * scale_factor).set_stroke(width=4))\n",
    "        for i in range(4):  # 纵向粗线\n",
    "            grid.add(Line(UP * 4.5 * scale_factor + LEFT * (4.5 - i * 3) * scale_factor, \n",
    "                          DOWN * 4.5 * scale_factor + LEFT * (4.5 - i * 3) * scale_factor).set_stroke(width=4))\n",
    "\n",
    "        # 添加数独数字\n",
    "        numbers = [\n",
    "            [0, 1, 7, 5, 0, 0, 2, 0, 0],\n",
    "            [0, 0, 0, 0, 0, 7, 0, 0, 0],\n",
    "            [0, 0, 0, 6, 1, 8, 5, 7, 0],\n",
    "            [0, 7, 1, 0, 0, 0, 0, 0, 4],\n",
    "            [0, 9, 0, 8, 0, 1, 0, 5, 0],\n",
    "            [3, 0, 0, 0, 0, 0, 1, 2, 0],\n",
    "            [0, 6, 3, 9, 8, 5, 0, 0, 0],\n",
    "            [0, 0, 0, 7, 0, 0, 0, 0, 0],\n",
    "            [0, 0, 5, 0, 0, 2, 6, 9, 0]\n",
    "        ]\n",
    "        \n",
    "        num_group = VGroup()  # 创建一个数字组\n",
    "        for i in range(9):\n",
    "            for j in range(9):\n",
    "                if numbers[i][j] != 0:\n",
    "                    # 为非零值在网格上添加数字\n",
    "                    num = Text(str(numbers[i][j]), font_size=24).move_to(self.get_cell_center(i, j, scale_factor))\n",
    "                    num_group.add(num)\n",
    "\n",
    "        self.play(FadeIn(grid,num_group))\n",
    "        \n",
    "        lineRow1 = Line(LEFT * 4.5 * scale_factor + UP * (4.5 - 1) * scale_factor, RIGHT * 4.5 * scale_factor + UP * (4.5 - 1) * scale_factor).set_stroke(width=4).set_color(color = RED)\n",
    "        lineRow2 = Line(LEFT * 4.5 * scale_factor + UP * (4.5 - 2) * scale_factor, RIGHT * 4.5 * scale_factor + UP * (4.5 - 2) * scale_factor).set_stroke(width=4).set_color(color = RED)\n",
    "        \n",
    "        asumption1 = Text(\"随机选择第i行\").move_to(RIGHT*4.9 + UP*0.5).scale(0.5)\n",
    "        self.play(Write(asumption1))\n",
    "        \n",
    "        asumption2 = Text(\"那么对于任意的一个数字n\\n\\n其必然出现在第i行的某一列\").move_to(RIGHT*4.6 + DOWN*0.5).scale(0.55)\n",
    "        self.play(Write(asumption2))\n",
    "        \n",
    "        self.play(FadeIn(lineRow1),FadeIn(lineRow2),runtime = 3)\n",
    "        self.wait(5)\n",
    "        \n",
    "\n",
    "        self.play(FadeOut(lineRow1,lineRow2))\n",
    "        \n",
    "        self.wait(1)\n",
    "        self.play(FadeOut(grid), FadeOut(num_group))\n",
    "        \n",
    "        self.play(FadeOut(asumption1,asumption2))\n",
    "        self.wait(3)\n",
    "        \n",
    "        \n",
    "        \n",
    "        \n",
    "    \n"
   ]
  },
  {
   "cell_type": "code",
   "execution_count": 159,
   "metadata": {},
   "outputs": [
    {
     "data": {
      "text/html": [
       "<pre style=\"white-space:pre;overflow-x:auto;line-height:normal;font-family:Menlo,'DejaVu Sans Mono',consolas,'Courier New',monospace\">Manim Community <span style=\"color: #008000; text-decoration-color: #008000\">v0.18.1</span>\n",
       "\n",
       "</pre>\n"
      ],
      "text/plain": [
       "Manim Community \u001b[32mv0.\u001b[0m\u001b[32m18.1\u001b[0m\n",
       "\n"
      ]
     },
     "metadata": {},
     "output_type": "display_data"
    },
    {
     "name": "stderr",
     "output_type": "stream",
     "text": [
      "                                                                                                                                                           \r"
     ]
    },
    {
     "data": {
      "text/html": [
       "<video src=\"media\\jupyter\\GuiNa@2024-09-07@21-19-54.mp4\" controls autoplay loop style=\"max-width: 60%;\"  >\n",
       "      Your browser does not support the <code>video</code> element.\n",
       "    </video>"
      ],
      "text/plain": [
       "<IPython.core.display.Video object>"
      ]
     },
     "metadata": {},
     "output_type": "display_data"
    }
   ],
   "source": [
    "%%manim -ql -v Warning GuiNa\n",
    "\n",
    "from manim import *\n",
    "\n",
    "class GuiNa(Scene):\n",
    "    def construct(self):\n",
    "        text = Text(\"换言之，在如下命题中，必然至少有一个成立：\").move_to(LEFT*2+UP*2).scale(0.65)\n",
    "        self.play(Write(text))\n",
    "        self.wait(5)\n",
    "        P = MathTex(r\"P(i,1,n)\\\\P(i,2,n)\\\\P(i,3,n)\\\\...\\\\P(i,7,n)\\\\P(i,8,n)\\\\P(i,9,n)\").scale(0.8).move_to(DOWN*0.9)\n",
    "        self.play(Write(P))\n",
    "        self.wait(5)\n",
    "        self.play(FadeOut(text,P))\n",
    "        self.wait(2)\n",
    "        \n"
   ]
  },
  {
   "cell_type": "code",
   "execution_count": 216,
   "metadata": {},
   "outputs": [
    {
     "data": {
      "text/html": [
       "<pre style=\"white-space:pre;overflow-x:auto;line-height:normal;font-family:Menlo,'DejaVu Sans Mono',consolas,'Courier New',monospace\">Manim Community <span style=\"color: #008000; text-decoration-color: #008000\">v0.18.1</span>\n",
       "\n",
       "</pre>\n"
      ],
      "text/plain": [
       "Manim Community \u001b[32mv0.\u001b[0m\u001b[32m18.1\u001b[0m\n",
       "\n"
      ]
     },
     "metadata": {},
     "output_type": "display_data"
    },
    {
     "name": "stderr",
     "output_type": "stream",
     "text": [
      "                                                                                                           \r"
     ]
    },
    {
     "data": {
      "text/html": [
       "<video src=\"media\\jupyter\\GuiNa2@2024-09-08@00-13-15.mp4\" controls autoplay loop style=\"max-width: 60%;\"  >\n",
       "      Your browser does not support the <code>video</code> element.\n",
       "    </video>"
      ],
      "text/plain": [
       "<IPython.core.display.Video object>"
      ]
     },
     "metadata": {},
     "output_type": "display_data"
    }
   ],
   "source": [
    "%%manim -ql -v Warning GuiNa2\n",
    "\n",
    "from manim import *\n",
    "\n",
    "class GuiNa2(Scene):\n",
    "    def construct(self):\n",
    "        text = Text(\"换言之,对于第i行,和数字n,有如下命题成立:\").move_to(LEFT*2+UP*2).scale(0.65)\n",
    "        self.play(Write(text))\n",
    "        self.wait(5)\n",
    "        formula = MathTex(\n",
    "            r\"\\bigcup_{j=1}^{9} P(i,j,n)\"\n",
    "        ).scale(1.5).move_to(ORIGIN)\n",
    "        \n",
    "        self.play(Write(formula))\n",
    "        self.wait(5)\n",
    "        \n",
    "        text2 = Text(\"这个命题描述了数字n在第i行至少出现了一次\").move_to(DOWN*1.63).scale(0.65)\n",
    "        \n",
    "        self.play(Write(text2))\n",
    "        self.play(FadeOut(text,formula,text2))\n",
    "        self.wait(2)\n",
    "        \n",
    "        \n"
   ]
  },
  {
   "cell_type": "code",
   "execution_count": 180,
   "metadata": {},
   "outputs": [
    {
     "data": {
      "text/html": [
       "<pre style=\"white-space:pre;overflow-x:auto;line-height:normal;font-family:Menlo,'DejaVu Sans Mono',consolas,'Courier New',monospace\">Manim Community <span style=\"color: #008000; text-decoration-color: #008000\">v0.18.1</span>\n",
       "\n",
       "</pre>\n"
      ],
      "text/plain": [
       "Manim Community \u001b[32mv0.\u001b[0m\u001b[32m18.1\u001b[0m\n",
       "\n"
      ]
     },
     "metadata": {},
     "output_type": "display_data"
    },
    {
     "name": "stderr",
     "output_type": "stream",
     "text": [
      "                                                                                                         \r"
     ]
    },
    {
     "data": {
      "text/html": [
       "<video src=\"media\\jupyter\\GuiNa3@2024-09-07@21-53-23.mp4\" controls autoplay loop style=\"max-width: 60%;\"  >\n",
       "      Your browser does not support the <code>video</code> element.\n",
       "    </video>"
      ],
      "text/plain": [
       "<IPython.core.display.Video object>"
      ]
     },
     "metadata": {},
     "output_type": "display_data"
    }
   ],
   "source": [
    "%%manim -ql -v Warning GuiNa3\n",
    "\n",
    "from manim import *\n",
    "\n",
    "class GuiNa3(Scene):\n",
    "    def construct(self):\n",
    "        text = Text(\"进一步,每一个数字n,都在第i行出现了一次\").move_to(LEFT*2+UP*2).scale(0.65)\n",
    "        self.play(Write(text))\n",
    "        text2 = Text(\"这也就意味着如下命题，每一个都成立：\").move_to(LEFT*2+UP*1.3).scale(0.65)\n",
    "        self.play(Write(text2))\n",
    "        \n",
    "        formula1 = MathTex(\n",
    "            r\"\\bigcup_{j=1}^{9} P(i,j,1)\"\n",
    "        ).scale(0.8).move_to(ORIGIN + UP*0.2)\n",
    "        self.play(Write(formula1))\n",
    "        \n",
    "        formula2 = MathTex(\n",
    "            r\"\\bigcup_{j=1}^{9} P(i,j,2)\"\n",
    "        ).scale(0.8).move_to(ORIGIN + DOWN * 1.2)\n",
    "        self.play(Write(formula2))\n",
    "        \n",
    "        formula3 = MathTex(\n",
    "            r\"...\"\n",
    "        ).scale(0.8).move_to(ORIGIN + DOWN*2.2)\n",
    "        self.play(Write(formula3))\n",
    "\n",
    "        formula4 = MathTex(\n",
    "            r\"\\bigcup_{j=1}^{9} P(i,j,9)\"\n",
    "        ).scale(0.8).move_to(ORIGIN + DOWN*3.2)\n",
    "        self.play(Write(formula4))\n",
    "        \n",
    "        self.wait(5)\n",
    "        \n",
    "        self.play(FadeOut(text,formula1,formula2,formula3,formula4,text2))\n",
    "        self.wait(2)\n",
    "        \n",
    "        "
   ]
  },
  {
   "cell_type": "code",
   "execution_count": 175,
   "metadata": {},
   "outputs": [
    {
     "data": {
      "text/html": [
       "<pre style=\"white-space:pre;overflow-x:auto;line-height:normal;font-family:Menlo,'DejaVu Sans Mono',consolas,'Courier New',monospace\">Manim Community <span style=\"color: #008000; text-decoration-color: #008000\">v0.18.1</span>\n",
       "\n",
       "</pre>\n"
      ],
      "text/plain": [
       "Manim Community \u001b[32mv0.\u001b[0m\u001b[32m18.1\u001b[0m\n",
       "\n"
      ]
     },
     "metadata": {},
     "output_type": "display_data"
    },
    {
     "name": "stderr",
     "output_type": "stream",
     "text": [
      "                                                                                                                              \r"
     ]
    },
    {
     "data": {
      "text/html": [
       "<video src=\"media\\jupyter\\GuiNa2@2024-09-07@21-49-50.mp4\" controls autoplay loop style=\"max-width: 60%;\"  >\n",
       "      Your browser does not support the <code>video</code> element.\n",
       "    </video>"
      ],
      "text/plain": [
       "<IPython.core.display.Video object>"
      ]
     },
     "metadata": {},
     "output_type": "display_data"
    }
   ],
   "source": [
    "%%manim -ql -v Warning GuiNa2\n",
    "\n",
    "from manim import *\n",
    "\n",
    "class GuiNa2(Scene):\n",
    "    def construct(self):\n",
    "        text = Text(\"换言之,对于第i行,有如下命题成立:\").move_to(LEFT*2+UP*2).scale(0.65)\n",
    "        self.play(Write(text))\n",
    "        self.wait(2)\n",
    "        formula = MathTex(\n",
    "            r\"\\bigcap_{n=1}^{9}\\bigcup_{j=1}^{9} P(i,j,n)\"\n",
    "        ).scale(1.5).move_to(ORIGIN)\n",
    "        \n",
    "        self.play(Write(formula))\n",
    "        self.wait(5)\n",
    "        \n",
    "        text2 = Text(\"这个命题描述了,每个数字n在第i行都出现了一次\").move_to(DOWN*1.63).scale(0.65)\n",
    "        \n",
    "        self.play(Write(text2))\n",
    "        self.play(FadeOut(text,formula,text2))\n",
    "        self.wait(2)\n",
    "        \n",
    "        \n"
   ]
  },
  {
   "cell_type": "code",
   "execution_count": 178,
   "metadata": {},
   "outputs": [
    {
     "data": {
      "text/html": [
       "<pre style=\"white-space:pre;overflow-x:auto;line-height:normal;font-family:Menlo,'DejaVu Sans Mono',consolas,'Courier New',monospace\">Manim Community <span style=\"color: #008000; text-decoration-color: #008000\">v0.18.1</span>\n",
       "\n",
       "</pre>\n"
      ],
      "text/plain": [
       "Manim Community \u001b[32mv0.\u001b[0m\u001b[32m18.1\u001b[0m\n",
       "\n"
      ]
     },
     "metadata": {},
     "output_type": "display_data"
    },
    {
     "name": "stderr",
     "output_type": "stream",
     "text": [
      "                                                                                                                              \r"
     ]
    },
    {
     "data": {
      "text/html": [
       "<video src=\"media\\jupyter\\GuiNa4@2024-09-07@21-52-51.mp4\" controls autoplay loop style=\"max-width: 60%;\"  >\n",
       "      Your browser does not support the <code>video</code> element.\n",
       "    </video>"
      ],
      "text/plain": [
       "<IPython.core.display.Video object>"
      ]
     },
     "metadata": {},
     "output_type": "display_data"
    }
   ],
   "source": [
    "%%manim -ql -v Warning GuiNa4\n",
    "\n",
    "from manim import *\n",
    "\n",
    "class GuiNa4(Scene):\n",
    "    def construct(self):\n",
    "        text = Text(\"进一步,对于每一行i,也满足每一个数字n均出现了\").move_to(LEFT*2+UP*2).scale(0.65)\n",
    "        self.play(Write(text))\n",
    "        text2 = Text(\"这也就意味着如下命题，每一个都成立：\").move_to(LEFT*2+UP*1.3).scale(0.65)\n",
    "        self.play(Write(text2))\n",
    "        \n",
    "        formula1 = MathTex(\n",
    "            r\"\\bigcap_{n=1}^{9}\\bigcup_{j=1}^{9} P(1,j,n)\"\n",
    "        ).scale(0.8).move_to(ORIGIN + UP*0.2)\n",
    "        self.play(Write(formula1))\n",
    "       \n",
    "        formula2 = MathTex(\n",
    "            r\"\\bigcap_{n=1}^{9}\\bigcup_{j=1}^{9} P(2,j,n)\"\n",
    "        ).scale(0.8).move_to(ORIGIN + DOWN * 1.2)\n",
    "        self.play(Write(formula2))\n",
    "        \n",
    "        formula3 = MathTex(\n",
    "            r\"...\"\n",
    "        ).scale(0.8).move_to(ORIGIN + DOWN*2.2)\n",
    "        self.play(Write(formula3))\n",
    "\n",
    "        formula4 = MathTex(\n",
    "            r\"\\bigcap_{n=1}^{9}\\bigcup_{j=1}^{9} P(9,j,n)\"\n",
    "        ).scale(0.8).move_to(ORIGIN + DOWN*3.2)\n",
    "        self.play(Write(formula4))\n",
    "        \n",
    "        self.wait(5)\n",
    "        \n",
    "        self.play(FadeOut(text,formula1,formula2,formula3,formula4,text2))\n",
    "        self.wait(2)\n",
    "        \n",
    "        "
   ]
  },
  {
   "cell_type": "code",
   "execution_count": 181,
   "metadata": {},
   "outputs": [
    {
     "data": {
      "text/html": [
       "<pre style=\"white-space:pre;overflow-x:auto;line-height:normal;font-family:Menlo,'DejaVu Sans Mono',consolas,'Courier New',monospace\">Manim Community <span style=\"color: #008000; text-decoration-color: #008000\">v0.18.1</span>\n",
       "\n",
       "</pre>\n"
      ],
      "text/plain": [
       "Manim Community \u001b[32mv0.\u001b[0m\u001b[32m18.1\u001b[0m\n",
       "\n"
      ]
     },
     "metadata": {},
     "output_type": "display_data"
    },
    {
     "name": "stderr",
     "output_type": "stream",
     "text": [
      "                                                                                                                                                \r"
     ]
    },
    {
     "data": {
      "text/html": [
       "<video src=\"media\\jupyter\\GuiNa5@2024-09-07@21-55-32.mp4\" controls autoplay loop style=\"max-width: 60%;\"  >\n",
       "      Your browser does not support the <code>video</code> element.\n",
       "    </video>"
      ],
      "text/plain": [
       "<IPython.core.display.Video object>"
      ]
     },
     "metadata": {},
     "output_type": "display_data"
    }
   ],
   "source": [
    "%%manim -ql -v Warning GuiNa5\n",
    "\n",
    "from manim import *\n",
    "\n",
    "class GuiNa5(Scene):\n",
    "    def construct(self):\n",
    "        text = Text(\"换言之,有如下命题成立:\").move_to(LEFT*2+UP*2).scale(0.65)\n",
    "        self.play(Write(text))\n",
    "        self.wait(2)\n",
    "        formula = MathTex(\n",
    "            r\"\\bigcap_{i=1}^{9}\\bigcap_{n=1}^{9}\\bigcup_{j=1}^{9} P(i,j,n)\"\n",
    "        ).scale(1.5).move_to(ORIGIN)\n",
    "        \n",
    "        self.play(Write(formula))\n",
    "        self.wait(5)\n",
    "        \n",
    "        text2 = Text(\"这个命题描述了,对于每一行，每一个数字都出现过\").move_to(DOWN*1.63).scale(0.65)\n",
    "        \n",
    "        self.play(Write(text2))\n",
    "        self.play(FadeOut(text,formula,text2))\n",
    "        self.wait(2)\n",
    "        \n",
    "        \n"
   ]
  },
  {
   "cell_type": "code",
   "execution_count": 186,
   "metadata": {},
   "outputs": [
    {
     "data": {
      "text/html": [
       "<pre style=\"white-space:pre;overflow-x:auto;line-height:normal;font-family:Menlo,'DejaVu Sans Mono',consolas,'Courier New',monospace\">Manim Community <span style=\"color: #008000; text-decoration-color: #008000\">v0.18.1</span>\n",
       "\n",
       "</pre>\n"
      ],
      "text/plain": [
       "Manim Community \u001b[32mv0.\u001b[0m\u001b[32m18.1\u001b[0m\n",
       "\n"
      ]
     },
     "metadata": {},
     "output_type": "display_data"
    },
    {
     "name": "stderr",
     "output_type": "stream",
     "text": [
      "                                                                                                                                                \r"
     ]
    },
    {
     "data": {
      "text/html": [
       "<video src=\"media\\jupyter\\P@2024-09-07@22-01-12.mp4\" controls autoplay loop style=\"max-width: 60%;\"  >\n",
       "      Your browser does not support the <code>video</code> element.\n",
       "    </video>"
      ],
      "text/plain": [
       "<IPython.core.display.Video object>"
      ]
     },
     "metadata": {},
     "output_type": "display_data"
    }
   ],
   "source": [
    "%%manim -ql -v Warning P\n",
    "\n",
    "from manim import *\n",
    "\n",
    "class P(Scene):\n",
    "    def construct(self):\n",
    "        # 创建问题文本\n",
    "        questionP1 = Text(\"每一个数字，在每一行出现且仅出现一次\").move_to(UP*1.5).scale(0.7)\n",
    "        self.play(Write(questionP1))\n",
    "        self.wait(2)\n",
    "        \n",
    "        questionP = MathTex(\n",
    "            r\"\\bigcap_{i=1}^{9}\\bigcap_{n=1}^{9}\\bigcup_{j=1}^{9} P(i,j,n)\"\n",
    "        ).scale(1).move_to(DOWN*1)\n",
    "        \n",
    "        \n",
    "        # 创建箭头\n",
    "        arrow = Arrow(start=questionP1.get_center(), end=questionP.get_center() + UP*0.75, buff=0.3)\n",
    "        \n",
    "        # 创建箭头上的文本\n",
    "        label = Text(\"翻译\", font_size=24).next_to(arrow, RIGHT, buff=0.2)\n",
    "        \n",
    "        # 将箭头和标签组合\n",
    "        arrow_with_label = VGroup(arrow, label)\n",
    "        \n",
    "        # 显示文本和箭头\n",
    "        \n",
    "        self.play(Create(arrow_with_label))\n",
    "        self.wait(2)\n",
    "        \n",
    "        self.play(Write(questionP))\n",
    "        \n",
    "        self.wait(5)\n",
    "        self.play(FadeOut(questionP1,questionP,arrow_with_label))\n",
    "        \n",
    "        self.wait(2)\n",
    "        \n",
    "\n",
    "\n",
    "        \n",
    "        "
   ]
  },
  {
   "cell_type": "code",
   "execution_count": 193,
   "metadata": {},
   "outputs": [
    {
     "data": {
      "text/html": [
       "<pre style=\"white-space:pre;overflow-x:auto;line-height:normal;font-family:Menlo,'DejaVu Sans Mono',consolas,'Courier New',monospace\">Manim Community <span style=\"color: #008000; text-decoration-color: #008000\">v0.18.1</span>\n",
       "\n",
       "</pre>\n"
      ],
      "text/plain": [
       "Manim Community \u001b[32mv0.\u001b[0m\u001b[32m18.1\u001b[0m\n",
       "\n"
      ]
     },
     "metadata": {},
     "output_type": "display_data"
    },
    {
     "name": "stderr",
     "output_type": "stream",
     "text": [
      "                                                                                                                                                  \r"
     ]
    },
    {
     "data": {
      "text/html": [
       "<video src=\"media\\jupyter\\P@2024-09-07@22-04-45.mp4\" controls autoplay loop style=\"max-width: 60%;\"  >\n",
       "      Your browser does not support the <code>video</code> element.\n",
       "    </video>"
      ],
      "text/plain": [
       "<IPython.core.display.Video object>"
      ]
     },
     "metadata": {},
     "output_type": "display_data"
    }
   ],
   "source": [
    "%%manim -ql -v Warning P\n",
    "\n",
    "from manim import *\n",
    "\n",
    "class P(Scene):\n",
    "       def construct(self):\n",
    "              question_text = Text(\"用刚刚的思维过程，对剩下两个规则翻译\\n\\n你可以按下暂停,自己尝试写一写\", font_size=36).move_to(ORIGIN)\n",
    "              self.play(Write(question_text), run_time=6)\n",
    "              # 清屏并逐渐淡出\n",
    "              self.wait(5)\n",
    "              self.play(FadeOut(question_text), run_time=2)\n",
    "              self.wait(2)\n"
   ]
  },
  {
   "cell_type": "code",
   "execution_count": 195,
   "metadata": {},
   "outputs": [
    {
     "data": {
      "text/html": [
       "<pre style=\"white-space:pre;overflow-x:auto;line-height:normal;font-family:Menlo,'DejaVu Sans Mono',consolas,'Courier New',monospace\">Manim Community <span style=\"color: #008000; text-decoration-color: #008000\">v0.18.1</span>\n",
       "\n",
       "</pre>\n"
      ],
      "text/plain": [
       "Manim Community \u001b[32mv0.\u001b[0m\u001b[32m18.1\u001b[0m\n",
       "\n"
      ]
     },
     "metadata": {},
     "output_type": "display_data"
    },
    {
     "name": "stderr",
     "output_type": "stream",
     "text": [
      "                                                                                                                                                \r"
     ]
    },
    {
     "data": {
      "text/html": [
       "<video src=\"media\\jupyter\\P@2024-09-07@22-06-11.mp4\" controls autoplay loop style=\"max-width: 60%;\"  >\n",
       "      Your browser does not support the <code>video</code> element.\n",
       "    </video>"
      ],
      "text/plain": [
       "<IPython.core.display.Video object>"
      ]
     },
     "metadata": {},
     "output_type": "display_data"
    }
   ],
   "source": [
    "%%manim -ql -v Warning P\n",
    "\n",
    "from manim import *\n",
    "\n",
    "class P(Scene):\n",
    "    def construct(self):\n",
    "        # 创建问题文本\n",
    "        questionP1 = Text(\"每一个数字，在每一列出现且仅出现一次\").move_to(UP*1.5).scale(0.7)\n",
    "        self.play(Write(questionP1))\n",
    "        self.wait(2)\n",
    "        \n",
    "        questionP = MathTex(\n",
    "            r\"\\bigcap_{j=1}^{9}\\bigcap_{n=1}^{9}\\bigcup_{i=1}^{9} P(i,j,n)\"\n",
    "        ).scale(1).move_to(DOWN*1)\n",
    "        \n",
    "        \n",
    "        # 创建箭头\n",
    "        arrow = Arrow(start=questionP1.get_center(), end=questionP.get_center() + UP*0.75, buff=0.3)\n",
    "        \n",
    "        # 创建箭头上的文本\n",
    "        label = Text(\"翻译\", font_size=24).next_to(arrow, RIGHT, buff=0.2)\n",
    "        \n",
    "        # 将箭头和标签组合\n",
    "        arrow_with_label = VGroup(arrow, label)\n",
    "        \n",
    "        # 显示文本和箭头\n",
    "        \n",
    "        self.play(Create(arrow_with_label))\n",
    "        self.wait(2)\n",
    "        \n",
    "        self.play(Write(questionP))\n",
    "        \n",
    "        self.wait(5)\n",
    "        self.play(FadeOut(questionP1,questionP,arrow_with_label))\n",
    "        \n",
    "        self.wait(2)\n",
    "        \n",
    "\n",
    "\n",
    "        \n",
    "        "
   ]
  },
  {
   "cell_type": "code",
   "execution_count": 196,
   "metadata": {},
   "outputs": [
    {
     "data": {
      "text/html": [
       "<pre style=\"white-space:pre;overflow-x:auto;line-height:normal;font-family:Menlo,'DejaVu Sans Mono',consolas,'Courier New',monospace\">Manim Community <span style=\"color: #008000; text-decoration-color: #008000\">v0.18.1</span>\n",
       "\n",
       "</pre>\n"
      ],
      "text/plain": [
       "Manim Community \u001b[32mv0.\u001b[0m\u001b[32m18.1\u001b[0m\n",
       "\n"
      ]
     },
     "metadata": {},
     "output_type": "display_data"
    },
    {
     "name": "stderr",
     "output_type": "stream",
     "text": [
      "                                                                                                                                                                                         \r"
     ]
    },
    {
     "data": {
      "text/html": [
       "<video src=\"media\\jupyter\\P@2024-09-07@22-09-07.mp4\" controls autoplay loop style=\"max-width: 60%;\"  >\n",
       "      Your browser does not support the <code>video</code> element.\n",
       "    </video>"
      ],
      "text/plain": [
       "<IPython.core.display.Video object>"
      ]
     },
     "metadata": {},
     "output_type": "display_data"
    }
   ],
   "source": [
    "%%manim -ql -v Warning P\n",
    "\n",
    "from manim import *\n",
    "\n",
    "class P(Scene):\n",
    "    def construct(self):\n",
    "        # 创建问题文本\n",
    "        questionP1 = Text(\"每一个数字，在每一个九宫格出现且仅出现一次\").move_to(UP*1.5).scale(0.7)\n",
    "        self.play(Write(questionP1))\n",
    "        self.wait(2)\n",
    "        \n",
    "        questionP = MathTex(\n",
    "            r\"\\bigcap_{r=0}^{2}\\bigcap_{s=0}^{2}\\bigcap_{n=1}^{9}\\bigcup_{i=1}^{3}\\bigcup_{j=1}^{3} P(3r+i,3s+j,n)\"\n",
    "        ).scale(1).move_to(DOWN*1)\n",
    "        \n",
    "        \n",
    "        # 创建箭头\n",
    "        arrow = Arrow(start=questionP1.get_center(), end=questionP.get_center() + UP*0.75, buff=0.3)\n",
    "        \n",
    "        # 创建箭头上的文本\n",
    "        label = Text(\"翻译\", font_size=24).next_to(arrow, RIGHT, buff=0.2)\n",
    "        \n",
    "        # 将箭头和标签组合\n",
    "        arrow_with_label = VGroup(arrow, label)\n",
    "        \n",
    "        # 显示文本和箭头\n",
    "        \n",
    "        self.play(Create(arrow_with_label))\n",
    "        self.wait(2)\n",
    "        \n",
    "        self.play(Write(questionP))\n",
    "        \n",
    "        self.wait(5)\n",
    "        self.play(FadeOut(questionP1,questionP,arrow_with_label))\n",
    "        \n",
    "        self.wait(2)\n",
    "        \n",
    "\n",
    "\n",
    "        \n",
    "        "
   ]
  },
  {
   "cell_type": "code",
   "execution_count": 202,
   "metadata": {},
   "outputs": [
    {
     "data": {
      "text/html": [
       "<pre style=\"white-space:pre;overflow-x:auto;line-height:normal;font-family:Menlo,'DejaVu Sans Mono',consolas,'Courier New',monospace\">Manim Community <span style=\"color: #008000; text-decoration-color: #008000\">v0.18.1</span>\n",
       "\n",
       "</pre>\n"
      ],
      "text/plain": [
       "Manim Community \u001b[32mv0.\u001b[0m\u001b[32m18.1\u001b[0m\n",
       "\n"
      ]
     },
     "metadata": {},
     "output_type": "display_data"
    },
    {
     "name": "stderr",
     "output_type": "stream",
     "text": [
      "                                                                                                                                                                                         \r"
     ]
    },
    {
     "data": {
      "text/html": [
       "<video src=\"media\\jupyter\\GuiNa4@2024-09-07@22-14-13.mp4\" controls autoplay loop style=\"max-width: 60%;\"  >\n",
       "      Your browser does not support the <code>video</code> element.\n",
       "    </video>"
      ],
      "text/plain": [
       "<IPython.core.display.Video object>"
      ]
     },
     "metadata": {},
     "output_type": "display_data"
    }
   ],
   "source": [
    "%%manim -ql -v Warning GuiNa4\n",
    "\n",
    "from manim import *\n",
    "\n",
    "class GuiNa4(Scene):\n",
    "    def construct(self):\n",
    "        text = Text(\"换言之,我们将已知条件,翻译成了如下三个数学语言\").move_to(LEFT*2+UP*2).scale(0.65)\n",
    "        self.play(Write(text))\n",
    "        \n",
    "        formula1 = MathTex(\n",
    "            r\"\\bigcap_{i=1}^{9}\\bigcap_{n=1}^{9}\\bigcup_{j=1}^{9} P(i,j,n)\"\n",
    "        ).scale(0.8).move_to(ORIGIN + UP*0.2)\n",
    "        self.play(Write(formula1))\n",
    "       \n",
    "        formula2 = MathTex(\n",
    "            r\"\\bigcap_{j=1}^{9}\\bigcap_{n=1}^{9}\\bigcup_{i=1}^{9} P(i,j,n)\"\n",
    "        ).scale(0.8).move_to(ORIGIN + DOWN * 1.2)\n",
    "        self.play(Write(formula2))\n",
    "    \n",
    "        formula3 = MathTex(\n",
    "            r\"\\bigcap_{r=0}^{2}\\bigcap_{s=0}^{2}\\bigcap_{n=1}^{9}\\bigcup_{i=1}^{3}\\bigcup_{j=1}^{3} P(3r+i,3s+j,n)\"\n",
    "        ).scale(0.8).move_to(ORIGIN + DOWN*2.56)\n",
    "        self.play(Write(formula3))\n",
    "        \n",
    "        self.wait(10)\n",
    "        \n",
    "        self.play(FadeOut(text,formula1,formula2,formula3))\n",
    "        self.wait(2)\n",
    "        \n",
    "        "
   ]
  },
  {
   "cell_type": "code",
   "execution_count": 207,
   "metadata": {},
   "outputs": [
    {
     "data": {
      "text/html": [
       "<pre style=\"white-space:pre;overflow-x:auto;line-height:normal;font-family:Menlo,'DejaVu Sans Mono',consolas,'Courier New',monospace\">Manim Community <span style=\"color: #008000; text-decoration-color: #008000\">v0.18.1</span>\n",
       "\n",
       "</pre>\n"
      ],
      "text/plain": [
       "Manim Community \u001b[32mv0.\u001b[0m\u001b[32m18.1\u001b[0m\n",
       "\n"
      ]
     },
     "metadata": {},
     "output_type": "display_data"
    },
    {
     "name": "stderr",
     "output_type": "stream",
     "text": [
      "                                                                                                     \r"
     ]
    },
    {
     "data": {
      "text/html": [
       "<video src=\"media\\jupyter\\CreateSudoku@2024-09-07@22-21-23.mp4\" controls autoplay loop style=\"max-width: 60%;\"  >\n",
       "      Your browser does not support the <code>video</code> element.\n",
       "    </video>"
      ],
      "text/plain": [
       "<IPython.core.display.Video object>"
      ]
     },
     "metadata": {},
     "output_type": "display_data"
    }
   ],
   "source": [
    "%%manim -ql -v Warning CreateSudoku\n",
    "\n",
    "from manim import *\n",
    "\n",
    "class CreateSudoku(Scene):\n",
    "    def get_cell_center(self, i, j, scale_factor):\n",
    "        # 计算每个单元格的中心位置\n",
    "        cell_size = 1 * scale_factor\n",
    "        x = -4.5 * scale_factor + (j + 0.5) * cell_size  # 水平方向的中心位置\n",
    "        y = 4.5 * scale_factor - (i + 0.5) * cell_size   # 垂直方向的中心位置\n",
    "        return np.array([x, y, 0])  # 返回中心坐标\n",
    "\n",
    "    def draw_bracket(self, position, direction, size, label):\n",
    "        # 创建大括号\n",
    "        line = Line(position, position + direction * size)\n",
    "        bracket = Brace(line, direction)\n",
    "        bracket_label = Text(label, font_size=24).next_to(bracket, direction)\n",
    "        return VGroup(bracket, bracket_label)\n",
    "\n",
    "    def construct(self):\n",
    "        grid = VGroup()\n",
    "        scale_factor = 0.5\n",
    "        \n",
    "        # 创建网格\n",
    "        for i in range(10):  # 横线\n",
    "            grid.add(Line(LEFT * 4.5 * scale_factor + UP * (4.5 - i) * scale_factor, \n",
    "                          RIGHT * 4.5 * scale_factor + UP * (4.5 - i) * scale_factor).set_stroke(width=1))\n",
    "        for i in range(10):  # 竖线\n",
    "            grid.add(Line(UP * 4.5 * scale_factor + LEFT * (4.5 - i) * scale_factor, \n",
    "                          DOWN * 4.5 * scale_factor + LEFT * (4.5 - i) * scale_factor).set_stroke(width=1))\n",
    "\n",
    "        # 粗线分割3×3区域\n",
    "        for i in range(4):  # 横向粗线\n",
    "            grid.add(Line(LEFT * 4.5 * scale_factor + UP * (4.5 - i * 3) * scale_factor, \n",
    "                          RIGHT * 4.5 * scale_factor + UP * (4.5 - i * 3) * scale_factor).set_stroke(width=4))\n",
    "        for i in range(4):  # 纵向粗线\n",
    "            grid.add(Line(UP * 4.5 * scale_factor + LEFT * (4.5 - i * 3) * scale_factor, \n",
    "                          DOWN * 4.5 * scale_factor + LEFT * (4.5 - i * 3) * scale_factor).set_stroke(width=4))\n",
    "\n",
    "        # 添加数独数字\n",
    "        numbers = [\n",
    "            [0, 1, 7, 5, 0, 0, 2, 0, 0],\n",
    "            [0, 0, 0, 0, 0, 7, 0, 0, 0],\n",
    "            [0, 0, 0, 6, 1, 8, 5, 7, 0],\n",
    "            [0, 7, 1, 0, 0, 0, 0, 0, 4],\n",
    "            [0, 9, 0, 8, 0, 1, 0, 5, 0],\n",
    "            [3, 0, 0, 0, 0, 0, 1, 2, 0],\n",
    "            [0, 6, 3, 9, 8, 5, 0, 0, 0],\n",
    "            [0, 0, 0, 7, 0, 0, 0, 0, 0],\n",
    "            [0, 0, 5, 0, 0, 2, 6, 9, 0]\n",
    "        ]\n",
    "        \n",
    "        num_group = VGroup()  # 创建一个数字组\n",
    "        for i in range(9):\n",
    "            for j in range(9):\n",
    "                if numbers[i][j] != 0:\n",
    "                    # 为非零值在网格上添加数字\n",
    "                    num = Text(str(numbers[i][j]), font_size=24).move_to(self.get_cell_center(i, j, scale_factor))\n",
    "                    num_group.add(num)\n",
    "\n",
    "        self.play(FadeIn(grid,num_group))\n",
    "        \n",
    "        self.wait(3)\n",
    "        \n",
    "        text1 = Text(\"一共有729个P(i,j,n)命题\").move_to(RIGHT*4.5+UP*0.5).scale(0.5)\n",
    "        text2 = Text(\"P(1,5,7) = 0\").move_to(RIGHT*4.5).scale(0.5)\n",
    "        text3 = Text(\"P(3,4,6) = 1\").move_to(RIGHT*4.5+DOWN*0.5).scale(0.5)\n",
    "        \n",
    "        self.play(Write(text1))\n",
    "        self.wait(3)\n",
    "        self.play(Write(text2))\n",
    "        self.wait(3)\n",
    "        self.play(Write(text3))\n",
    "        self.wait(3)\n",
    "                \n",
    "        self.play(FadeOut(grid,num_group))\n",
    "        self.play(FadeOut(text1,text2,text3))\n",
    "        \n",
    "        self.wait(3)\n",
    "        \n",
    "        "
   ]
  },
  {
   "cell_type": "code",
   "execution_count": 211,
   "metadata": {},
   "outputs": [
    {
     "data": {
      "text/html": [
       "<pre style=\"white-space:pre;overflow-x:auto;line-height:normal;font-family:Menlo,'DejaVu Sans Mono',consolas,'Courier New',monospace\">Manim Community <span style=\"color: #008000; text-decoration-color: #008000\">v0.18.1</span>\n",
       "\n",
       "</pre>\n"
      ],
      "text/plain": [
       "Manim Community \u001b[32mv0.\u001b[0m\u001b[32m18.1\u001b[0m\n",
       "\n"
      ]
     },
     "metadata": {},
     "output_type": "display_data"
    },
    {
     "name": "stderr",
     "output_type": "stream",
     "text": [
      "                                                                                                                                                                                         \r"
     ]
    },
    {
     "data": {
      "text/html": [
       "<video src=\"media\\jupyter\\P@2024-09-07@22-31-13.mp4\" controls autoplay loop style=\"max-width: 60%;\"  >\n",
       "      Your browser does not support the <code>video</code> element.\n",
       "    </video>"
      ],
      "text/plain": [
       "<IPython.core.display.Video object>"
      ]
     },
     "metadata": {},
     "output_type": "display_data"
    }
   ],
   "source": [
    "%%manim -ql -v Warning P\n",
    "\n",
    "from manim import *\n",
    "\n",
    "class P(Scene):\n",
    "       def construct(self):\n",
    "              question_text = Text(\"我们只需要寻找一个组合,使得刚刚翻译的三个命题均为真\", font_size=36).move_to(UP*1.7)\n",
    "              self.play(Write(question_text), run_time=6)\n",
    "              # 清屏并逐渐淡出\n",
    "              self.wait(2)\n",
    "              \n",
    "              formula1 = MathTex(\n",
    "              r\"\\bigcap_{i=1}^{9}\\bigcap_{n=1}^{9}\\bigcup_{j=1}^{9} P(i,j,n)\"\n",
    "              ).scale(0.8).move_to(ORIGIN + UP*0.2)\n",
    "              self.play(Write(formula1))\n",
    "\n",
    "              formula2 = MathTex(\n",
    "              r\"\\bigcap_{j=1}^{9}\\bigcap_{n=1}^{9}\\bigcup_{i=1}^{9} P(i,j,n)\"\n",
    "              ).scale(0.8).move_to(ORIGIN + DOWN * 1.2)\n",
    "              self.play(Write(formula2))\n",
    "\n",
    "              formula3 = MathTex(\n",
    "              r\"\\bigcap_{r=0}^{2}\\bigcap_{s=0}^{2}\\bigcap_{n=1}^{9}\\bigcup_{i=1}^{3}\\bigcup_{j=1}^{3} P(3r+i,3s+j,n)\"\n",
    "              ).scale(0.8).move_to(ORIGIN + DOWN*2.56)\n",
    "              self.play(Write(formula3))\n",
    "              \n",
    "              self.wait(10)\n",
    "              self.play(FadeOut(formula1,formula2,formula3))\n",
    "              \n",
    "              self.play(FadeOut(question_text), run_time=2)\n",
    "              self.wait(2)\n"
   ]
  }
 ],
 "metadata": {
  "kernelspec": {
   "display_name": "Python 3",
   "language": "python",
   "name": "python3"
  },
  "language_info": {
   "codemirror_mode": {
    "name": "ipython",
    "version": 3
   },
   "file_extension": ".py",
   "mimetype": "text/x-python",
   "name": "python",
   "nbconvert_exporter": "python",
   "pygments_lexer": "ipython3",
   "version": "3.11.9"
  }
 },
 "nbformat": 4,
 "nbformat_minor": 2
}
